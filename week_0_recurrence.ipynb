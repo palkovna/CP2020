{
 "cells": [
  {
   "cell_type": "markdown",
   "metadata": {},
   "source": [
    "Compute integrals of the form\n",
    "\n",
    "$$\n",
    "I_n = \\int_0^1 x^n e^{1-x}\\, dx\\;.\n",
    "$$\n",
    "\n",
    "Integrating by parts, we obtain a recurrence relation\n",
    "\n",
    "$$\n",
    "I_n = n I_{n-1} - 1 \\;,\n",
    "$$\n",
    "\n",
    "with the initial condition\n",
    "\n",
    "$$\n",
    "I_0 = e - 1\\;.\n",
    "$$"
   ]
  },
  {
   "cell_type": "markdown",
   "metadata": {},
   "source": [
    "These integrals can be computed using symbolic maths with `sympy`:"
   ]
  },
  {
   "cell_type": "code",
   "execution_count": 13,
   "metadata": {},
   "outputs": [],
   "source": [
    "import sympy\n",
    "import numpy as np\n",
    "\n",
    "x = sympy.Symbol('x')\n",
    "N = 25\n",
    "exact = [float(sympy.integrate(x**n * sympy.exp(1 - x), (x, 0, 1))) for n in range(N)]"
   ]
  },
  {
   "cell_type": "markdown",
   "metadata": {},
   "source": [
    "Use the recurrence relation to compute these integrals  from $n=0$ up to $n = 24$ inclusive. \n",
    "\n",
    "\n",
    "First, use the upwards recursion, from $n=1$ upwards. Your code below must product a list of the 25 values of the integrals."
   ]
  },
  {
   "cell_type": "code",
   "execution_count": 11,
   "metadata": {},
   "outputs": [],
   "source": [
    "def upwards_recursion(n):\n",
    "    \"\"\"Compute the integrals using the upwards recursion.\"\"\"\n",
    "    values = [np.e - 1]\n",
    "    for k in range(1, n):\n",
    "        values.append(k * values[k - 1] - 1)\n",
    "    return values"
   ]
  },
  {
   "cell_type": "markdown",
   "metadata": {},
   "source": [
    "Compare your results with the exact values. Discuss"
   ]
  },
  {
   "cell_type": "code",
   "execution_count": 14,
   "metadata": {},
   "outputs": [
    {
     "name": "stdout",
     "output_type": "stream",
     "text": [
      "1.718281828459045 1.7182818284590453\n",
      "0.7182818284590451 0.7182818284590452\n",
      "0.4365636569180902 0.43656365691809046\n",
      "0.30969097075427054 0.30969097075427143\n",
      "0.23876388301708218 0.23876388301708565\n",
      "0.1938194150854109 0.19381941508542824\n",
      "0.16291649051246537 0.16291649051256946\n",
      "0.1404154335872576 0.14041543358798622\n",
      "0.12332346869806088 0.12332346870388973\n",
      "0.1099112182825479 0.10991121833500754\n",
      "0.09911218282547907 0.0991121833500754\n",
      "0.09023401108026974 0.09023401685082952\n",
      "0.08280813296323686 0.08280820220995427\n",
      "0.07650572852207915 0.07650662872940558\n",
      "0.07108019930910814 0.07109280221167809\n",
      "0.06620298963662208 0.0663920331751714\n",
      "0.05924783418595325 0.06227253080274239\n",
      "0.007213181161205284 0.05863302364662064\n",
      "-0.8701627390983049 0.05539442563917152\n",
      "-17.533092042867793 0.052494087144258815\n",
      "-351.66184085735586 0.049881742885176245\n",
      "-7385.898658004473 0.04751660058870116\n",
      "-162490.7704760984 0.04536521295142559\n",
      "-3737288.7209502636 0.04339989788278872\n",
      "-89694930.30280632 0.041597549186929206\n"
     ]
    },
    {
     "ename": "AssertionError",
     "evalue": "\nNot equal to tolerance rtol=1e-07, atol=0\n\nMismatch: 52%\nMax absolute difference: 89694930.34440386\nMax relative difference: 2.15625517e+09\n x: array([ 1.718282e+00,  7.182818e-01,  4.365637e-01,  3.096910e-01,\n        2.387639e-01,  1.938194e-01,  1.629165e-01,  1.404154e-01,\n        1.233235e-01,  1.099112e-01,  9.911218e-02,  9.023401e-02,...\n y: array([1.718282, 0.718282, 0.436564, 0.309691, 0.238764, 0.193819,\n       0.162916, 0.140415, 0.123323, 0.109911, 0.099112, 0.090234,\n       0.082808, 0.076507, 0.071093, 0.066392, 0.062273, 0.058633,...",
     "output_type": "error",
     "traceback": [
      "\u001b[1;31m---------------------------------------------------------------------------\u001b[0m",
      "\u001b[1;31mAssertionError\u001b[0m                            Traceback (most recent call last)",
      "\u001b[1;32m<ipython-input-14-817130c18039>\u001b[0m in \u001b[0;36m<module>\u001b[1;34m\u001b[0m\n\u001b[0;32m      4\u001b[0m \u001b[1;33m\u001b[0m\u001b[0m\n\u001b[0;32m      5\u001b[0m \u001b[1;32mfrom\u001b[0m \u001b[0mnumpy\u001b[0m\u001b[1;33m.\u001b[0m\u001b[0mtesting\u001b[0m \u001b[1;32mimport\u001b[0m \u001b[0massert_allclose\u001b[0m\u001b[1;33m\u001b[0m\u001b[1;33m\u001b[0m\u001b[0m\n\u001b[1;32m----> 6\u001b[1;33m \u001b[0massert_allclose\u001b[0m\u001b[1;33m(\u001b[0m\u001b[0mvalues\u001b[0m\u001b[1;33m,\u001b[0m \u001b[0mexact\u001b[0m\u001b[1;33m)\u001b[0m\u001b[1;33m\u001b[0m\u001b[1;33m\u001b[0m\u001b[0m\n\u001b[0m",
      "\u001b[1;32m~\\Anaconda3\\lib\\site-packages\\numpy\\testing\\_private\\utils.py\u001b[0m in \u001b[0;36massert_allclose\u001b[1;34m(actual, desired, rtol, atol, equal_nan, err_msg, verbose)\u001b[0m\n\u001b[0;32m   1499\u001b[0m     \u001b[0mheader\u001b[0m \u001b[1;33m=\u001b[0m \u001b[1;34m'Not equal to tolerance rtol=%g, atol=%g'\u001b[0m \u001b[1;33m%\u001b[0m \u001b[1;33m(\u001b[0m\u001b[0mrtol\u001b[0m\u001b[1;33m,\u001b[0m \u001b[0matol\u001b[0m\u001b[1;33m)\u001b[0m\u001b[1;33m\u001b[0m\u001b[1;33m\u001b[0m\u001b[0m\n\u001b[0;32m   1500\u001b[0m     assert_array_compare(compare, actual, desired, err_msg=str(err_msg),\n\u001b[1;32m-> 1501\u001b[1;33m                          verbose=verbose, header=header, equal_nan=equal_nan)\n\u001b[0m\u001b[0;32m   1502\u001b[0m \u001b[1;33m\u001b[0m\u001b[0m\n\u001b[0;32m   1503\u001b[0m \u001b[1;33m\u001b[0m\u001b[0m\n",
      "\u001b[1;32m~\\Anaconda3\\lib\\site-packages\\numpy\\testing\\_private\\utils.py\u001b[0m in \u001b[0;36massert_array_compare\u001b[1;34m(comparison, x, y, err_msg, verbose, header, precision, equal_nan, equal_inf)\u001b[0m\n\u001b[0;32m    825\u001b[0m                                 \u001b[0mverbose\u001b[0m\u001b[1;33m=\u001b[0m\u001b[0mverbose\u001b[0m\u001b[1;33m,\u001b[0m \u001b[0mheader\u001b[0m\u001b[1;33m=\u001b[0m\u001b[0mheader\u001b[0m\u001b[1;33m,\u001b[0m\u001b[1;33m\u001b[0m\u001b[1;33m\u001b[0m\u001b[0m\n\u001b[0;32m    826\u001b[0m                                 names=('x', 'y'), precision=precision)\n\u001b[1;32m--> 827\u001b[1;33m             \u001b[1;32mraise\u001b[0m \u001b[0mAssertionError\u001b[0m\u001b[1;33m(\u001b[0m\u001b[0mmsg\u001b[0m\u001b[1;33m)\u001b[0m\u001b[1;33m\u001b[0m\u001b[1;33m\u001b[0m\u001b[0m\n\u001b[0m\u001b[0;32m    828\u001b[0m     \u001b[1;32mexcept\u001b[0m \u001b[0mValueError\u001b[0m\u001b[1;33m:\u001b[0m\u001b[1;33m\u001b[0m\u001b[1;33m\u001b[0m\u001b[0m\n\u001b[0;32m    829\u001b[0m         \u001b[1;32mimport\u001b[0m \u001b[0mtraceback\u001b[0m\u001b[1;33m\u001b[0m\u001b[1;33m\u001b[0m\u001b[0m\n",
      "\u001b[1;31mAssertionError\u001b[0m: \nNot equal to tolerance rtol=1e-07, atol=0\n\nMismatch: 52%\nMax absolute difference: 89694930.34440386\nMax relative difference: 2.15625517e+09\n x: array([ 1.718282e+00,  7.182818e-01,  4.365637e-01,  3.096910e-01,\n        2.387639e-01,  1.938194e-01,  1.629165e-01,  1.404154e-01,\n        1.233235e-01,  1.099112e-01,  9.911218e-02,  9.023401e-02,...\n y: array([1.718282, 0.718282, 0.436564, 0.309691, 0.238764, 0.193819,\n       0.162916, 0.140415, 0.123323, 0.109911, 0.099112, 0.090234,\n       0.082808, 0.076507, 0.071093, 0.066392, 0.062273, 0.058633,..."
     ]
    }
   ],
   "source": [
    "values = upwards_recursion(25)\n",
    "for value, exact_value in zip(values, exact):\n",
    "    print(value, exact_value)\n",
    "\n",
    "from numpy.testing import assert_allclose\n",
    "assert_allclose(values, exact)"
   ]
  },
  {
   "cell_type": "code",
   "execution_count": null,
   "metadata": {
    "collapsed": true
   },
   "outputs": [],
   "source": [
    "# The error in I_n is proportional to n!, therefore upwards reccursion algorithm becomes unstable for \n",
    "# sufficiently large n (here it happens after n = 16)."
   ]
  },
  {
   "cell_type": "markdown",
   "metadata": {},
   "source": [
    "Next, use the downwards recursion. Your code below must produce a list of the 25 values of the integrals, from 0 to 24."
   ]
  },
  {
   "cell_type": "code",
   "execution_count": 1,
   "metadata": {},
   "outputs": [],
   "source": [
    "def downwards_recursion(n):\n",
    "    \"\"\"Compute the integrals using the downwards recursion.\"\"\"\n",
    "    values = np.zeros(n)\n",
    "    for k in reversed(range(n - 1)):\n",
    "        values[k] = (values[k + 1] + 1) / (k + 1)\n",
    "    return values"
   ]
  },
  {
   "cell_type": "markdown",
   "metadata": {
    "collapsed": true
   },
   "source": [
    "Repeat the comparison with the exact values. Discuss."
   ]
  },
  {
   "cell_type": "code",
   "execution_count": 9,
   "metadata": {},
   "outputs": [
    {
     "name": "stdout",
     "output_type": "stream",
     "text": [
      "1.718281828459045 1.7182818284590453\n",
      "0.7182818284590452 0.7182818284590452\n",
      "0.43656365691809046 0.43656365691809046\n",
      "0.30969097075427143 0.30969097075427143\n",
      "0.23876388301708565 0.23876388301708565\n",
      "0.19381941508542824 0.19381941508542824\n",
      "0.16291649051256946 0.16291649051256946\n",
      "0.14041543358798622 0.14041543358798622\n",
      "0.12332346870388972 0.12332346870388973\n",
      "0.10991121833500754 0.10991121833500754\n",
      "0.09911218335007542 0.0991121833500754\n",
      "0.09023401685082953 0.09023401685082952\n",
      "0.08280820220995425 0.08280820220995427\n",
      "0.07650662872940517 0.07650662872940558\n",
      "0.07109280221167226 0.07109280221167809\n",
      "0.06639203317508373 0.0663920331751714\n",
      "0.06227253080133964 0.06227253080274239\n",
      "0.05863302362277381 0.05863302364662064\n",
      "0.055394425209928634 0.05539442563917152\n",
      "0.05249407898864421 0.052494087144258815\n",
      "0.04988157977288413 0.049881742885176245\n",
      "0.047513175230566536 0.04751660058870116\n",
      "0.04528985507246377 0.04536521295142559\n",
      "0.041666666666666664 0.04339989788278872\n",
      "0.0 0.041597549186929206\n"
     ]
    },
    {
     "ename": "AssertionError",
     "evalue": "\nNot equal to tolerance rtol=1e-07, atol=0\n\nMismatch: 24%\nMax absolute difference: 0.04159755\nMax relative difference: 1.\n x: array([1.718282, 0.718282, 0.436564, 0.309691, 0.238764, 0.193819,\n       0.162916, 0.140415, 0.123323, 0.109911, 0.099112, 0.090234,\n       0.082808, 0.076507, 0.071093, 0.066392, 0.062273, 0.058633,...\n y: array([1.718282, 0.718282, 0.436564, 0.309691, 0.238764, 0.193819,\n       0.162916, 0.140415, 0.123323, 0.109911, 0.099112, 0.090234,\n       0.082808, 0.076507, 0.071093, 0.066392, 0.062273, 0.058633,...",
     "output_type": "error",
     "traceback": [
      "\u001b[1;31m---------------------------------------------------------------------------\u001b[0m",
      "\u001b[1;31mAssertionError\u001b[0m                            Traceback (most recent call last)",
      "\u001b[1;32m<ipython-input-9-baa20218cc48>\u001b[0m in \u001b[0;36m<module>\u001b[1;34m\u001b[0m\n\u001b[0;32m      4\u001b[0m \u001b[1;33m\u001b[0m\u001b[0m\n\u001b[0;32m      5\u001b[0m \u001b[1;32mfrom\u001b[0m \u001b[0mnumpy\u001b[0m\u001b[1;33m.\u001b[0m\u001b[0mtesting\u001b[0m \u001b[1;32mimport\u001b[0m \u001b[0massert_allclose\u001b[0m\u001b[1;33m\u001b[0m\u001b[1;33m\u001b[0m\u001b[0m\n\u001b[1;32m----> 6\u001b[1;33m \u001b[0massert_allclose\u001b[0m\u001b[1;33m(\u001b[0m\u001b[0mvalues\u001b[0m\u001b[1;33m,\u001b[0m \u001b[0mexact\u001b[0m\u001b[1;33m)\u001b[0m\u001b[1;33m\u001b[0m\u001b[1;33m\u001b[0m\u001b[0m\n\u001b[0m",
      "\u001b[1;32m~\\Anaconda3\\lib\\site-packages\\numpy\\testing\\_private\\utils.py\u001b[0m in \u001b[0;36massert_allclose\u001b[1;34m(actual, desired, rtol, atol, equal_nan, err_msg, verbose)\u001b[0m\n\u001b[0;32m   1499\u001b[0m     \u001b[0mheader\u001b[0m \u001b[1;33m=\u001b[0m \u001b[1;34m'Not equal to tolerance rtol=%g, atol=%g'\u001b[0m \u001b[1;33m%\u001b[0m \u001b[1;33m(\u001b[0m\u001b[0mrtol\u001b[0m\u001b[1;33m,\u001b[0m \u001b[0matol\u001b[0m\u001b[1;33m)\u001b[0m\u001b[1;33m\u001b[0m\u001b[1;33m\u001b[0m\u001b[0m\n\u001b[0;32m   1500\u001b[0m     assert_array_compare(compare, actual, desired, err_msg=str(err_msg),\n\u001b[1;32m-> 1501\u001b[1;33m                          verbose=verbose, header=header, equal_nan=equal_nan)\n\u001b[0m\u001b[0;32m   1502\u001b[0m \u001b[1;33m\u001b[0m\u001b[0m\n\u001b[0;32m   1503\u001b[0m \u001b[1;33m\u001b[0m\u001b[0m\n",
      "\u001b[1;32m~\\Anaconda3\\lib\\site-packages\\numpy\\testing\\_private\\utils.py\u001b[0m in \u001b[0;36massert_array_compare\u001b[1;34m(comparison, x, y, err_msg, verbose, header, precision, equal_nan, equal_inf)\u001b[0m\n\u001b[0;32m    825\u001b[0m                                 \u001b[0mverbose\u001b[0m\u001b[1;33m=\u001b[0m\u001b[0mverbose\u001b[0m\u001b[1;33m,\u001b[0m \u001b[0mheader\u001b[0m\u001b[1;33m=\u001b[0m\u001b[0mheader\u001b[0m\u001b[1;33m,\u001b[0m\u001b[1;33m\u001b[0m\u001b[1;33m\u001b[0m\u001b[0m\n\u001b[0;32m    826\u001b[0m                                 names=('x', 'y'), precision=precision)\n\u001b[1;32m--> 827\u001b[1;33m             \u001b[1;32mraise\u001b[0m \u001b[0mAssertionError\u001b[0m\u001b[1;33m(\u001b[0m\u001b[0mmsg\u001b[0m\u001b[1;33m)\u001b[0m\u001b[1;33m\u001b[0m\u001b[1;33m\u001b[0m\u001b[0m\n\u001b[0m\u001b[0;32m    828\u001b[0m     \u001b[1;32mexcept\u001b[0m \u001b[0mValueError\u001b[0m\u001b[1;33m:\u001b[0m\u001b[1;33m\u001b[0m\u001b[1;33m\u001b[0m\u001b[0m\n\u001b[0;32m    829\u001b[0m         \u001b[1;32mimport\u001b[0m \u001b[0mtraceback\u001b[0m\u001b[1;33m\u001b[0m\u001b[1;33m\u001b[0m\u001b[0m\n",
      "\u001b[1;31mAssertionError\u001b[0m: \nNot equal to tolerance rtol=1e-07, atol=0\n\nMismatch: 24%\nMax absolute difference: 0.04159755\nMax relative difference: 1.\n x: array([1.718282, 0.718282, 0.436564, 0.309691, 0.238764, 0.193819,\n       0.162916, 0.140415, 0.123323, 0.109911, 0.099112, 0.090234,\n       0.082808, 0.076507, 0.071093, 0.066392, 0.062273, 0.058633,...\n y: array([1.718282, 0.718282, 0.436564, 0.309691, 0.238764, 0.193819,\n       0.162916, 0.140415, 0.123323, 0.109911, 0.099112, 0.090234,\n       0.082808, 0.076507, 0.071093, 0.066392, 0.062273, 0.058633,..."
     ]
    }
   ],
   "source": [
    "values = downwards_recursion(25)\n",
    "for value, exact_value in zip(values, exact):\n",
    "    print(value, exact_value)\n",
    "\n",
    "from numpy.testing import assert_allclose\n",
    "assert_allclose(values, exact)"
   ]
  },
  {
   "cell_type": "code",
   "execution_count": null,
   "metadata": {},
   "outputs": [],
   "source": [
    "# Downwards recursion algorithm appears to be more precise, because the error is reduced with each step. We can see\n",
    "# that there are fewer mismatches, and the results produced by the algorithm become closer to the exact values as \n",
    "# n increases. "
   ]
  }
 ],
 "metadata": {
  "kernelspec": {
   "display_name": "Python 3",
   "language": "python",
   "name": "python3"
  },
  "language_info": {
   "codemirror_mode": {
    "name": "ipython",
    "version": 3
   },
   "file_extension": ".py",
   "mimetype": "text/x-python",
   "name": "python",
   "nbconvert_exporter": "python",
   "pygments_lexer": "ipython3",
   "version": "3.7.3"
  }
 },
 "nbformat": 4,
 "nbformat_minor": 2
}
